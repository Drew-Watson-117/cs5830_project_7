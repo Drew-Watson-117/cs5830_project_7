{
 "cells": [
  {
   "cell_type": "code",
   "execution_count": 1,
   "metadata": {},
   "outputs": [],
   "source": [
    "import pandas as pd\n",
    "from DataParser import DataParser"
   ]
  },
  {
   "cell_type": "code",
   "execution_count": 18,
   "metadata": {},
   "outputs": [
    {
     "data": {
      "text/html": [
       "<div>\n",
       "<style scoped>\n",
       "    .dataframe tbody tr th:only-of-type {\n",
       "        vertical-align: middle;\n",
       "    }\n",
       "\n",
       "    .dataframe tbody tr th {\n",
       "        vertical-align: top;\n",
       "    }\n",
       "\n",
       "    .dataframe thead th {\n",
       "        text-align: right;\n",
       "    }\n",
       "</style>\n",
       "<table border=\"1\" class=\"dataframe\">\n",
       "  <thead>\n",
       "    <tr style=\"text-align: right;\">\n",
       "      <th></th>\n",
       "      <th>Date_Time</th>\n",
       "      <th>XRS_A_Flux</th>\n",
       "      <th>XRS_B_Flux</th>\n",
       "    </tr>\n",
       "  </thead>\n",
       "  <tbody>\n",
       "    <tr>\n",
       "      <th>0</th>\n",
       "      <td>2010-03-31 00:00:00</td>\n",
       "      <td>--</td>\n",
       "      <td>--</td>\n",
       "    </tr>\n",
       "    <tr>\n",
       "      <th>1</th>\n",
       "      <td>2010-03-31 00:01:00</td>\n",
       "      <td>--</td>\n",
       "      <td>--</td>\n",
       "    </tr>\n",
       "    <tr>\n",
       "      <th>2</th>\n",
       "      <td>2010-03-31 00:02:00</td>\n",
       "      <td>--</td>\n",
       "      <td>--</td>\n",
       "    </tr>\n",
       "    <tr>\n",
       "      <th>3</th>\n",
       "      <td>2010-03-31 00:03:00</td>\n",
       "      <td>--</td>\n",
       "      <td>--</td>\n",
       "    </tr>\n",
       "    <tr>\n",
       "      <th>4</th>\n",
       "      <td>2010-03-31 00:04:00</td>\n",
       "      <td>--</td>\n",
       "      <td>--</td>\n",
       "    </tr>\n",
       "  </tbody>\n",
       "</table>\n",
       "</div>"
      ],
      "text/plain": [
       "             Date_Time XRS_A_Flux XRS_B_Flux\n",
       "0  2010-03-31 00:00:00         --         --\n",
       "1  2010-03-31 00:01:00         --         --\n",
       "2  2010-03-31 00:02:00         --         --\n",
       "3  2010-03-31 00:03:00         --         --\n",
       "4  2010-03-31 00:04:00         --         --"
      ]
     },
     "metadata": {},
     "output_type": "display_data"
    },
    {
     "data": {
      "text/html": [
       "<div>\n",
       "<style scoped>\n",
       "    .dataframe tbody tr th:only-of-type {\n",
       "        vertical-align: middle;\n",
       "    }\n",
       "\n",
       "    .dataframe tbody tr th {\n",
       "        vertical-align: top;\n",
       "    }\n",
       "\n",
       "    .dataframe thead th {\n",
       "        text-align: right;\n",
       "    }\n",
       "</style>\n",
       "<table border=\"1\" class=\"dataframe\">\n",
       "  <thead>\n",
       "    <tr style=\"text-align: right;\">\n",
       "      <th></th>\n",
       "      <th>Date_Time</th>\n",
       "      <th>XRS_B_Flux</th>\n",
       "      <th>Flare_Class</th>\n",
       "    </tr>\n",
       "  </thead>\n",
       "  <tbody>\n",
       "    <tr>\n",
       "      <th>0</th>\n",
       "      <td>2010-04-08 02:32:00</td>\n",
       "      <td>4.636548e-08</td>\n",
       "      <td>NaN</td>\n",
       "    </tr>\n",
       "    <tr>\n",
       "      <th>1</th>\n",
       "      <td>2010-04-08 03:23:00</td>\n",
       "      <td>5.484352e-07</td>\n",
       "      <td>B5.4</td>\n",
       "    </tr>\n",
       "    <tr>\n",
       "      <th>2</th>\n",
       "      <td>2010-04-08 04:05:00</td>\n",
       "      <td>3.448127e-07</td>\n",
       "      <td>NaN</td>\n",
       "    </tr>\n",
       "    <tr>\n",
       "      <th>3</th>\n",
       "      <td>2010-04-08 04:14:00</td>\n",
       "      <td>3.702122e-07</td>\n",
       "      <td>B3.7</td>\n",
       "    </tr>\n",
       "    <tr>\n",
       "      <th>4</th>\n",
       "      <td>2010-04-08 04:18:00</td>\n",
       "      <td>3.524697e-07</td>\n",
       "      <td>NaN</td>\n",
       "    </tr>\n",
       "  </tbody>\n",
       "</table>\n",
       "</div>"
      ],
      "text/plain": [
       "             Date_Time    XRS_B_Flux Flare_Class\n",
       "0  2010-04-08 02:32:00  4.636548e-08         NaN\n",
       "1  2010-04-08 03:23:00  5.484352e-07        B5.4\n",
       "2  2010-04-08 04:05:00  3.448127e-07         NaN\n",
       "3  2010-04-08 04:14:00  3.702122e-07        B3.7\n",
       "4  2010-04-08 04:18:00  3.524697e-07         NaN"
      ]
     },
     "metadata": {},
     "output_type": "display_data"
    }
   ],
   "source": [
    "averages = pd.read_csv('data/xrsAverages.csv')\n",
    "summary = pd.read_csv('data/xrsSummary.csv')\n",
    "display(averages.head())\n",
    "display(summary.head())"
   ]
  },
  {
   "cell_type": "code",
   "execution_count": 4,
   "metadata": {},
   "outputs": [
    {
     "ename": "RuntimeError",
     "evalue": "NetCDF: HDF error",
     "output_type": "error",
     "traceback": [
      "\u001b[1;31m---------------------------------------------------------------------------\u001b[0m",
      "\u001b[1;31mRuntimeError\u001b[0m                              Traceback (most recent call last)",
      "\u001b[1;32mc:\\Users\\drewz\\School_Stuff\\Spring_2024\\Data_Science_In_Practice\\Homework\\project7\\xray.ipynb Cell 3\u001b[0m line \u001b[0;36m2\n\u001b[0;32m      <a href='vscode-notebook-cell:/c%3A/Users/drewz/School_Stuff/Spring_2024/Data_Science_In_Practice/Homework/project7/xray.ipynb#W2sZmlsZQ%3D%3D?line=0'>1</a>\u001b[0m ncAvg \u001b[39m=\u001b[39m DataParser(\u001b[39m'\u001b[39m\u001b[39mdata/sci_xrsf-l2-avg1m_g15_s20100331_e20200304_v1-0-0.nc\u001b[39m\u001b[39m'\u001b[39m)\n\u001b[1;32m----> <a href='vscode-notebook-cell:/c%3A/Users/drewz/School_Stuff/Spring_2024/Data_Science_In_Practice/Homework/project7/xray.ipynb#W2sZmlsZQ%3D%3D?line=1'>2</a>\u001b[0m ncSum \u001b[39m=\u001b[39m DataParser(\u001b[39m'\u001b[39;49m\u001b[39mdata/sci_xrsf-l2-flsum_g15_s20100331_e20200304_v1-0-0.nc\u001b[39;49m\u001b[39m'\u001b[39;49m)\n\u001b[0;32m      <a href='vscode-notebook-cell:/c%3A/Users/drewz/School_Stuff/Spring_2024/Data_Science_In_Practice/Homework/project7/xray.ipynb#W2sZmlsZQ%3D%3D?line=2'>3</a>\u001b[0m ncSum\u001b[39m.\u001b[39mnc\u001b[39m.\u001b[39mvariables\u001b[39m.\u001b[39mkeys()\n\u001b[0;32m      <a href='vscode-notebook-cell:/c%3A/Users/drewz/School_Stuff/Spring_2024/Data_Science_In_Practice/Homework/project7/xray.ipynb#W2sZmlsZQ%3D%3D?line=3'>4</a>\u001b[0m flux \u001b[39m=\u001b[39m ncSum\u001b[39m.\u001b[39mgetVariable(\u001b[39m'\u001b[39m\u001b[39mxrsb_flux\u001b[39m\u001b[39m'\u001b[39m)\n",
      "File \u001b[1;32mc:\\Users\\drewz\\School_Stuff\\Spring_2024\\Data_Science_In_Practice\\Homework\\project7\\DataParser.py:7\u001b[0m, in \u001b[0;36mDataParser.__init__\u001b[1;34m(self, fileName)\u001b[0m\n\u001b[0;32m      5\u001b[0m \u001b[39mdef\u001b[39;00m \u001b[39m__init__\u001b[39m(\u001b[39mself\u001b[39m, fileName) \u001b[39m-\u001b[39m\u001b[39m>\u001b[39m \u001b[39mNone\u001b[39;00m:\n\u001b[0;32m      6\u001b[0m     \u001b[39mself\u001b[39m\u001b[39m.\u001b[39mfileName \u001b[39m=\u001b[39m fileName\n\u001b[1;32m----> 7\u001b[0m     \u001b[39mself\u001b[39m\u001b[39m.\u001b[39mnc \u001b[39m=\u001b[39m netCDF4\u001b[39m.\u001b[39;49mDataset(fileName)\n",
      "File \u001b[1;32msrc\\\\netCDF4\\\\_netCDF4.pyx:2492\u001b[0m, in \u001b[0;36mnetCDF4._netCDF4.Dataset.__init__\u001b[1;34m()\u001b[0m\n",
      "File \u001b[1;32msrc\\\\netCDF4\\\\_netCDF4.pyx:1927\u001b[0m, in \u001b[0;36mnetCDF4._netCDF4._get_vars\u001b[1;34m()\u001b[0m\n",
      "File \u001b[1;32msrc\\\\netCDF4\\\\_netCDF4.pyx:2034\u001b[0m, in \u001b[0;36mnetCDF4._netCDF4._ensure_nc_success\u001b[1;34m()\u001b[0m\n",
      "\u001b[1;31mRuntimeError\u001b[0m: NetCDF: HDF error"
     ]
    }
   ],
   "source": [
    "ncAvg = DataParser('data/sci_xrsf-l2-avg1m_g15_s20100331_e20200304_v1-0-0.nc')\n",
    "ncSum = DataParser('data/sci_xrsf-l2-flsum_g15_s20100331_e20200304_v1-0-0.nc')"
   ]
  },
  {
   "cell_type": "code",
   "execution_count": 7,
   "metadata": {},
   "outputs": [
    {
     "data": {
      "text/plain": [
       "array(4.6365475e-08, dtype=float32)"
      ]
     },
     "execution_count": 7,
     "metadata": {},
     "output_type": "execute_result"
    }
   ],
   "source": [
    "ncSum.nc.variables.keys()\n",
    "flux = ncSum.getVariable('xrsb_flux')\n",
    "df = ncSum.createDataFrame(['xrsb_flux', 'background_flux', 'flare_class', 'flare_class'])\n",
    "flux[0].data[0]"
   ]
  }
 ],
 "metadata": {
  "kernelspec": {
   "display_name": "Python 3",
   "language": "python",
   "name": "python3"
  },
  "language_info": {
   "codemirror_mode": {
    "name": "ipython",
    "version": 3
   },
   "file_extension": ".py",
   "mimetype": "text/x-python",
   "name": "python",
   "nbconvert_exporter": "python",
   "pygments_lexer": "ipython3",
   "version": "3.11.0"
  }
 },
 "nbformat": 4,
 "nbformat_minor": 2
}
