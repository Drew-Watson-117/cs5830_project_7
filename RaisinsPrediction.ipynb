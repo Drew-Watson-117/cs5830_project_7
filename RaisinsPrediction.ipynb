{
 "cells": [
  {
   "cell_type": "code",
   "execution_count": null,
   "id": "3fefddf3-3f03-4e34-a8c9-da9e5b309c27",
   "metadata": {},
   "outputs": [],
   "source": [
    "import pandas as pd\n",
    "import matplotlib.pyplot as plt\n",
    "from sklearn import svm\n",
    "from sklearn.linear_model import LogisticRegression\n",
    "import numpy as np\n",
    "from sklearn.metrics import precision_recall_fscore_support\n",
    "import math\n",
    "from sklearn.preprocessing import StandardScaler\n"
   ]
  },
  {
   "cell_type": "code",
   "execution_count": null,
   "id": "7f246fd4-1c77-41d5-990a-1364c940587b",
   "metadata": {},
   "outputs": [],
   "source": [
    "df = pd.read_csv('data/Raisin_Dataset.csv')\n",
    "\n",
    "# Select predictors (X) and target variable (y)\n",
    "X = df.drop('Class', axis=1)\n",
    "\n",
    "# Instantiate StandardScaler\n",
    "scaler = StandardScaler()\n",
    "\n",
    "# Fit scaler on predictors (X) only\n",
    "scaler.fit(X)\n",
    "\n",
    "# Transform predictors (X) only\n",
    "X_scaled = scaler.transform(X)\n",
    "\n",
    "\n",
    "generalized_data = pd.DataFrame(X_scaled, columns=X.columns)\n",
    "df = df.dropna()\n",
    "generalized_data = generalized_data.dropna()"
   ]
  },
  {
   "cell_type": "code",
   "execution_count": null,
   "id": "e240ca36-ce98-4c4d-8586-66060a1655ae",
   "metadata": {},
   "outputs": [],
   "source": [
    "X_scaled"
   ]
  },
  {
   "cell_type": "code",
   "execution_count": null,
   "id": "c26e60b1-7815-49fc-88b7-5f3b8302f896",
   "metadata": {},
   "outputs": [],
   "source": [
    "df['Class'] = df['Class'].replace({'Kecimen': 0, 'Besni': 1})\n",
    "\n",
    "lm = LogisticRegression()\n",
    "df"
   ]
  },
  {
   "cell_type": "code",
   "execution_count": null,
   "id": "2a6d21f3-0831-4f91-8495-323f4fe97969",
   "metadata": {},
   "outputs": [],
   "source": [
    "lm = LogisticRegression()\n",
    "\n",
    "X = generalized_data[['MajorAxisLength', 'Perimeter','Area' \t, \t'MinorAxisLength' \t,'Eccentricity' \t,'ConvexArea' \t,'Extent' \t]]\n",
    "\n",
    "lm.fit(X, df['Class'])\n",
    "y = df.Class\n",
    "y_pred = lm.predict(X)\n",
    "\n",
    "\n",
    "display('predicted range: [{0:.2f},{1:.2f}]'.format(min(y_pred), max(y_pred)))\n",
    "\n",
    "p,r,f,s = precision_recall_fscore_support(y, y_pred, labels=[1,0])\n",
    "display('precision = {}'.format(p))\n",
    "display('recall = {}'.format(r))\n",
    "display('f-score = {}'.format(f))"
   ]
  },
  {
   "cell_type": "markdown",
   "id": "dff4897d-e767-49d9-b0f0-ae097aa3f7ab",
   "metadata": {},
   "source": [
    "Which variables are predictive of the target variable? -- Realistically, all of these are predictive of the target variable considering they all relate (in some way) to the classification of a raisin."
   ]
  },
  {
   "cell_type": "code",
   "execution_count": null,
   "id": "4b42540a-e29b-4b6f-a19f-5db2f73b6401",
   "metadata": {},
   "outputs": [],
   "source": [
    "\n",
    "lm = LogisticRegression()\n",
    "\n",
    "X = generalized_data[['Area','MajorAxisLength']]\n",
    "\n",
    "lm.fit(X, df['Class'])\n",
    "y = df.Class\n",
    "y_pred = lm.predict(X)\n",
    "color = ['r' if y_ == 0 else 'b' for y_ in df.Class]\n",
    "plt.scatter(generalized_data.Area, generalized_data['MajorAxisLength'], c=color, s=8)\n",
    "\n",
    "b0 = lm.intercept_[0]\n",
    "b = lm.coef_[0]\n",
    "\n",
    "Xdb = [-1.8, 1.8]\n",
    "ydb = [-(b0+b[0]*x)/b[1] for x in Xdb]\n",
    "plt.plot(Xdb, ydb)\n",
    "plt.xlabel('Area')\n",
    "plt.ylabel('Major Axis Length')"
   ]
  },
  {
   "cell_type": "code",
   "execution_count": null,
   "id": "b9481f00-0a7a-4d5e-9f3f-4bbe4af6fa23",
   "metadata": {},
   "outputs": [],
   "source": [
    "lm = LogisticRegression()\n",
    "\n",
    "X = generalized_data[['Eccentricity','ConvexArea']]\n",
    "\n",
    "lm.fit(X, df['Class'])\n",
    "y = df.Class\n",
    "y_pred = lm.predict(X)\n",
    "color = ['r' if y_ == 0 else 'b' for y_ in df.Class]\n",
    "plt.scatter(generalized_data.Eccentricity, generalized_data['ConvexArea'], c=color, s=8)\n",
    "\n",
    "b0 = lm.intercept_[0]\n",
    "b = lm.coef_[0]\n",
    "\n",
    "Xdb = [-1.8, 1.8]\n",
    "ydb = [-(b0+b[0]*x)/b[1] for x in Xdb]\n",
    "plt.plot(Xdb, ydb)\n",
    "plt.xlabel('Eccentricity')\n",
    "plt.ylabel('ConvexArea')"
   ]
  },
  {
   "cell_type": "code",
   "execution_count": null,
   "id": "f94e08f3-f857-4089-b9ab-c8d70a379b83",
   "metadata": {},
   "outputs": [],
   "source": [
    "\n",
    "lm = LogisticRegression()\n",
    "\n",
    "X = generalized_data[['MinorAxisLength','MajorAxisLength']]\n",
    "\n",
    "lm.fit(X, df['Class'])\n",
    "y = df.Class\n",
    "y_pred = lm.predict(X)\n",
    "color = ['r' if y_ == 0 else 'b' for y_ in df.Class]\n",
    "plt.scatter(generalized_data.MinorAxisLength, generalized_data['MajorAxisLength'], c=color, s=8)\n",
    "\n",
    "b0 = lm.intercept_[0]\n",
    "b = lm.coef_[0]\n",
    "\n",
    "Xdb = [-1.8, 1.8]\n",
    "ydb = [-(b0+b[0]*x)/b[1] for x in Xdb]\n",
    "plt.plot(Xdb, ydb)\n",
    "plt.xlabel('Minor Axis Length')\n",
    "plt.ylabel('Major Axis Length')"
   ]
  },
  {
   "cell_type": "code",
   "execution_count": null,
   "id": "8276462e-da01-48bf-b778-797ac3cd2d6f",
   "metadata": {},
   "outputs": [],
   "source": [
    "\n",
    "lm = LogisticRegression()\n",
    "\n",
    "X = generalized_data[['Perimeter','MajorAxisLength']]\n",
    "\n",
    "lm.fit(X, df['Class'])\n",
    "y = df.Class\n",
    "y_pred = lm.predict(X)\n",
    "color = ['r' if y_ == 0 else 'b' for y_ in df.Class]\n",
    "plt.scatter(generalized_data.Perimeter, generalized_data['MajorAxisLength'], c=color, s=8)\n",
    "\n",
    "b0 = lm.intercept_[0]\n",
    "b = lm.coef_[0]\n",
    "\n",
    "Xdb = [-1.8, 1.8]\n",
    "ydb = [-(b0+b[0]*x)/b[1] for x in Xdb]\n",
    "plt.plot(Xdb, ydb)\n",
    "plt.xlabel('Perimeter')\n",
    "plt.ylabel('Major Axis Length')"
   ]
  },
  {
   "cell_type": "code",
   "execution_count": null,
   "id": "c1d654f0-ff8f-4483-9bf7-a24a04409e9f",
   "metadata": {},
   "outputs": [],
   "source": [
    "X = generalized_data[['Eccentricity','ConvexArea']]\n",
    "\n",
    "y = df.Class\n",
    "\n",
    "clf = svm.SVC(kernel='poly', degree=3)\n",
    "clf.fit(X.values, y)\n",
    "\n",
    "y_pred = clf.predict(X)\n",
    "p,r,f,s = precision_recall_fscore_support(y, y_pred)\n",
    "display('f-score = {}'.format(f))\n",
    "import random\n",
    "newx = []\n",
    "newy = []\n",
    "newlabel = []\n",
    "for _ in range(5000):\n",
    "# for _ in range(5000):\n",
    "    px = random.uniform(-2,2)\n",
    "    py = random.uniform(-2.5,2.5)\n",
    "    plabel = clf.predict([[px,py]])\n",
    "    newx.append(px)\n",
    "    newy.append(py)\n",
    "    newlabel.append(plabel)\n",
    "\n",
    "color = ['r' if y_ == 0 else 'b' for y_ in newlabel]\n",
    "plt.scatter(newx, newy, c=color, marker='o', s=7)\n",
    "\n",
    "color = ['r' if y_ == 0 else 'b' for y_ in y]\n",
    "plt.scatter(generalized_data.Eccentricity, generalized_data.ConvexArea, c=color, s=30, marker='x')\n",
    "plt.xlabel('Eccentricity')\n",
    "plt.ylabel('Convex Area')"
   ]
  },
  {
   "cell_type": "code",
   "execution_count": null,
   "id": "e0914bc4-4e73-493e-aa37-90c64f2d58dd",
   "metadata": {},
   "outputs": [],
   "source": []
  },
  {
   "cell_type": "code",
   "execution_count": null,
   "id": "ea6fd2f0-fb12-47dd-bcc9-684fc6fb53b8",
   "metadata": {},
   "outputs": [],
   "source": [
    "X = generalized_data[['MajorAxisLength']]\n",
    "\n",
    "y = df.Class\n",
    "\n",
    "clf = svm.SVC(kernel='linear', class_weight={0:1, 1:1})\n",
    "clf.fit(X.values, y)\n",
    "\n",
    "y_pred = clf.predict(X)\n",
    "p,r,f,s = precision_recall_fscore_support(y, y_pred)\n",
    "display('f-score = {}'.format(f))\n",
    "\n"
   ]
  },
  {
   "cell_type": "code",
   "execution_count": null,
   "id": "ae5bd7d0-9f99-4521-a5fb-cc38da001bfa",
   "metadata": {},
   "outputs": [],
   "source": [
    "X = generalized_data[['Eccentricity','ConvexArea']]\n",
    "\n",
    "y = df.Class\n",
    "\n",
    "clf = svm.SVC(kernel='linear', class_weight={0:1, 1:1})\n",
    "clf.fit(X.values, y)\n",
    "\n",
    "y_pred = clf.predict(X)\n",
    "p,r,f,s = precision_recall_fscore_support(y, y_pred)\n",
    "display('f-score = {}'.format(f))\n",
    "\n"
   ]
  },
  {
   "cell_type": "code",
   "execution_count": null,
   "id": "e12fb258-636d-41dd-97d2-9fa00a8d1fb2",
   "metadata": {},
   "outputs": [],
   "source": [
    "X = generalized_data[['Eccentricity','ConvexArea']]\n",
    "\n",
    "y = df.Class\n",
    "\n",
    "clf = svm.SVC(kernel='linear', class_weight={0:1, 1:5})\n",
    "clf.fit(X.values, y)\n",
    "\n",
    "y_pred = clf.predict(X)\n",
    "p,r,f,s = precision_recall_fscore_support(y, y_pred)\n",
    "display('f-score = {}'.format(f))\n",
    "\n"
   ]
  },
  {
   "cell_type": "code",
   "execution_count": null,
   "id": "fd3f4306-fb3e-4d02-aa63-61f771479520",
   "metadata": {},
   "outputs": [],
   "source": [
    "X = generalized_data[['Eccentricity','ConvexArea']]\n",
    "\n",
    "y = df.Class\n",
    "\n",
    "clf = svm.SVC(kernel='linear', class_weight={0:.9, 1:1})\n",
    "clf.fit(X.values, y)\n",
    "\n",
    "y_pred = clf.predict(X)\n",
    "p,r,f,s = precision_recall_fscore_support(y, y_pred)\n",
    "display('f-score = {}'.format(f))\n"
   ]
  },
  {
   "cell_type": "code",
   "execution_count": null,
   "id": "30b366b9-9a7d-43c3-a32c-2875a0276d99",
   "metadata": {},
   "outputs": [],
   "source": [
    "X = generalized_data[['Eccentricity','ConvexArea']]\n",
    "\n",
    "y = df.Class\n",
    "\n",
    "clf = svm.SVC(kernel='rbf')\n",
    "clf.fit(X.values, y)\n",
    "\n",
    "y_pred = clf.predict(X)\n",
    "p,r,f,s = precision_recall_fscore_support(y, y_pred)\n",
    "display('f-score = {}'.format(f))"
   ]
  },
  {
   "cell_type": "code",
   "execution_count": null,
   "id": "19fcd465-9c19-408d-beef-1d262f54fce2",
   "metadata": {},
   "outputs": [],
   "source": [
    "X = generalized_data[['MajorAxisLength', 'Perimeter','Area' \t, \t'MinorAxisLength' \t,'Eccentricity' \t,'ConvexArea' \t,'Extent' \t]]\n",
    "y = df.Class\n",
    "\n",
    "clf = svm.SVC(kernel='rbf')\n",
    "clf.fit(X.values, y)\n",
    "\n",
    "y_pred = clf.predict(X)\n",
    "p,r,f,s = precision_recall_fscore_support(y, y_pred)\n",
    "display('f-score = {}'.format(f))"
   ]
  },
  {
   "cell_type": "code",
   "execution_count": null,
   "id": "5b5db057-06bb-402b-b573-3b5db756bfd7",
   "metadata": {},
   "outputs": [],
   "source": [
    "X = generalized_data[['MajorAxisLength', 'Perimeter','Area' \t, \t'MinorAxisLength' \t,'Eccentricity' \t,'ConvexArea' \t,'Extent' \t]]\n",
    "y = df.Class\n",
    "\n",
    "clf = svm.SVC(kernel='poly', degree = 3)\n",
    "clf.fit(X.values, y)\n",
    "\n",
    "y_pred = clf.predict(X)\n",
    "p,r,f,s = precision_recall_fscore_support(y, y_pred)\n",
    "display('f-score = {}'.format(f))"
   ]
  },
  {
   "cell_type": "code",
   "execution_count": null,
   "id": "3ddd2e77-e936-4bb9-bdc3-16ff4f8932a5",
   "metadata": {},
   "outputs": [],
   "source": []
  }
 ],
 "metadata": {
  "kernelspec": {
   "display_name": "Python 3 (ipykernel)",
   "language": "python",
   "name": "python3"
  },
  "language_info": {
   "codemirror_mode": {
    "name": "ipython",
    "version": 3
   },
   "file_extension": ".py",
   "mimetype": "text/x-python",
   "name": "python",
   "nbconvert_exporter": "python",
   "pygments_lexer": "ipython3",
   "version": "3.9.13"
  }
 },
 "nbformat": 4,
 "nbformat_minor": 5
}
